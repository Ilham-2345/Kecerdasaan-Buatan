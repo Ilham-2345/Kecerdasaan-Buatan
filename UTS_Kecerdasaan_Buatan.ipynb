{
 "cells": [
  {
   "cell_type": "markdown",
   "metadata": {},
   "source": [
    "## Soal UTS No 1 "
   ]
  },
  {
   "cell_type": "code",
   "execution_count": 1,
   "metadata": {},
   "outputs": [],
   "source": [
    "# Data\n",
    "\n",
    "company_detail_list = [\n",
    "      {\n",
    "          'name': 'Company 1',\n",
    "          'domain': 'Retail',\n",
    "          'country': 'United States'\n",
    "      },\n",
    "      {\n",
    "          'name': 'Company 2',\n",
    "          'domain': 'Technology',\n",
    "          'country': 'United Kingdom'\n",
    "      },\n",
    "      {\n",
    "          'name': 'Company 3',\n",
    "          'domain': 'Healthcare',\n",
    "          'country': 'United States'\n",
    "      }\n",
    "  ]"
   ]
  },
  {
   "cell_type": "markdown",
   "metadata": {},
   "source": [
    "## Task 1"
   ]
  },
  {
   "cell_type": "code",
   "execution_count": 2,
   "metadata": {},
   "outputs": [
    {
     "name": "stdout",
     "output_type": "stream",
     "text": [
      "[{'name': 'Company 3'}, {'name': 'Company 2'}, {'name': 'Company 1'}]\n"
     ]
    }
   ],
   "source": [
    "company_detail_list = [\n",
    "    {\n",
    "        'name': 'Company 1',\n",
    "        'domain': 'Retail',\n",
    "        'country': 'United States'\n",
    "    },\n",
    "    {\n",
    "        'name': 'Company 2',\n",
    "        'domain': 'Technology',\n",
    "        'country': 'United Kingdom'\n",
    "    },\n",
    "    {\n",
    "        'name': 'Company 3',\n",
    "        'domain': 'Healthcare',\n",
    "        'country': 'United States'\n",
    "    }\n",
    "]\n",
    "\n",
    "sorted_companies = [{'name': company['name']} for company in sorted(company_detail_list, key=lambda x: x['name'], reverse=True)]\n",
    "\n",
    "print(sorted_companies)\n"
   ]
  },
  {
   "cell_type": "markdown",
   "metadata": {},
   "source": [
    "## Soal No 2"
   ]
  },
  {
   "cell_type": "code",
   "execution_count": 3,
   "metadata": {},
   "outputs": [],
   "source": [
    "employee_detail_list = [\n",
    "     {\n",
    "          'name': 'EMP-0001',\n",
    "          'first_name': 'John',\n",
    "          'last_name': 'Doe',\n",
    "          'full_name': 'John Doe',\n",
    "          'company': 'Company 1',\n",
    "          'nationality': 'Australia'\n",
    "      },\n",
    "      {\n",
    "          'name': 'EMP-0002',\n",
    "          'first_name': 'Tom',\n",
    "          'last_name': 'Smith',\n",
    "          'full_name': 'Tom Smith',\n",
    "          'company': 'Company 2',\n",
    "          'nationality': 'United States'\n",
    "      },\n",
    "      {\n",
    "          'name': 'EMP-0003',\n",
    "          'first_name': 'Andrew',\n",
    "          'last_name': 'Sebastian',\n",
    "          'full_name': 'Andrew Sebastian',\n",
    "          'company': 'Company 3',\n",
    "          'nationality': 'United States'\n",
    "      },\n",
    "      {\n",
    "          'name': 'EMP-0005',\n",
    "          'first_name': 'Ying Han',\n",
    "          'last_name': 'Tan',\n",
    "          'full_name': 'Ying Han Tan',\n",
    "          'company': 'Company 1',\n",
    "          'nationality': 'Australia'\n",
    "      },\n",
    "      {\n",
    "          'name': 'EMP-0015',\n",
    "          'first_name': 'Kenneth',\n",
    "          'last_name': 'Ng',\n",
    "          'full_name': 'Kenneth Ng',\n",
    "          'company': 'Company 3',\n",
    "          'nationality': 'United States'\n",
    "      },\n",
    "      {\n",
    "          'name': 'EMP-0018',\n",
    "          'first_name': 'Rubby',\n",
    "          'last_name': 'Lee',\n",
    "          'full_name': 'Rubby Lee',\n",
    "          'company': 'Company 2',\n",
    "          'nationality': 'Hong Kong'\n",
    "      },\n",
    "     {\n",
    "          'name': 'EMP-0017',\n",
    "          'first_name': 'Robert',\n",
    "          'last_name': 'White',\n",
    "          'full_name': 'Robert White',\n",
    "          'company': 'Company 1',\n",
    "          'nationality': 'United Kingdom'\n",
    "      }\n",
    "  ]"
   ]
  },
  {
   "cell_type": "markdown",
   "metadata": {},
   "source": [
    "## Soal 2"
   ]
  },
  {
   "cell_type": "code",
   "execution_count": 4,
   "metadata": {},
   "outputs": [
    {
     "name": "stdout",
     "output_type": "stream",
     "text": [
      "Company 1: Retail (United States)\n",
      "Company 2: Technology (United Kingdom)\n",
      "Company 3: Healthcare (United States)\n"
     ]
    }
   ],
   "source": [
    "# Define the dictionary with company information\n",
    "company_info = {\n",
    "    'Company 1': {'domain': 'Retail', 'country': 'United States'},\n",
    "    'Company 2': {'domain': 'Technology', 'country': 'United Kingdom'},\n",
    "    'Company 3': {'domain': 'Healthcare', 'country': 'United States'}\n",
    "}\n",
    "\n",
    "# Print the domain and country for each company\n",
    "for company, details in company_info.items():\n",
    "    print(f\"{company}: {details['domain']} ({details['country']})\")\n"
   ]
  },
  {
   "cell_type": "markdown",
   "metadata": {},
   "source": [
    "## Task 3"
   ]
  },
  {
   "cell_type": "code",
   "execution_count": 5,
   "metadata": {},
   "outputs": [
    {
     "name": "stdout",
     "output_type": "stream",
     "text": [
      "{'Retail': ['John Doe', 'Ying Han Tan', 'Robert White'], 'Technology': ['Tom Smith', 'Rubby Lee'], 'Healthcare': ['Andrew Sebastian', 'Kenneth Ng']}\n"
     ]
    }
   ],
   "source": [
    "company_domain_map = {company['name']: company['domain'] for company in company_detail_list}\n",
    "\n",
    "employees_by_domain = {}\n",
    "\n",
    "for employee in employee_detail_list:\n",
    "    domain = company_domain_map.get(employee['company'])\n",
    "\n",
    "    if domain not in employees_by_domain:\n",
    "        employees_by_domain[domain] = []\n",
    "\n",
    "    employees_by_domain[domain].append(employee['full_name'])\n",
    "\n",
    "print(employees_by_domain) \n"
   ]
  },
  {
   "cell_type": "markdown",
   "metadata": {},
   "source": [
    "## Task 4"
   ]
  },
  {
   "cell_type": "code",
   "execution_count": 6,
   "metadata": {},
   "outputs": [
    {
     "name": "stdout",
     "output_type": "stream",
     "text": [
      "[\n",
      "    {\n",
      "        \"full_name\": \"John Doe\",\n",
      "        \"company\": \"Company 1\",\n",
      "        \"country\": \"United States\"\n",
      "    },\n",
      "    {\n",
      "        \"full_name\": \"Tom Smith\",\n",
      "        \"company\": \"Company 2\",\n",
      "        \"country\": \"United Kingdom\"\n",
      "    },\n",
      "    {\n",
      "        \"full_name\": \"Andrew Sebastian\",\n",
      "        \"company\": \"Company 3\",\n",
      "        \"country\": \"United Kingdom\"\n",
      "    },\n",
      "    {\n",
      "        \"full_name\": \"Ying Han Tan\",\n",
      "        \"company\": \"Company 1\",\n",
      "        \"country\": \"United States\"\n",
      "    },\n",
      "    {\n",
      "        \"full_name\": \"Kenneth Ng\",\n",
      "        \"company\": \"Company 3\",\n",
      "        \"country\": \"United Kingdom\"\n",
      "    },\n",
      "    {\n",
      "        \"full_name\": \"Rubby Lee\",\n",
      "        \"company\": \"Company 2\",\n",
      "        \"country\": \"United Kingdom\"\n",
      "    },\n",
      "    {\n",
      "        \"full_name\": \"Robert White\",\n",
      "        \"company\": \"Company 1\",\n",
      "        \"country\": \"United States\"\n",
      "    }\n",
      "]\n"
     ]
    }
   ],
   "source": [
    "def get_employee_details_with_country(employee_detail_list):\n",
    "    company_country_map = {\n",
    "        \"Company 1\": \"United States\",\n",
    "        \"Company 2\": \"United Kingdom\",\n",
    "        \"Company 3\": \"United Kingdom\"\n",
    "    }\n",
    "    \n",
    "    result = []\n",
    "    for employee in employee_detail_list:\n",
    "        result.append({\n",
    "            \"full_name\": employee[\"full_name\"],\n",
    "            \"company\": employee[\"company\"],\n",
    "            \"country\": company_country_map.get(employee[\"company\"], \"Unknown\")\n",
    "        })\n",
    "    \n",
    "    return result\n",
    "\n",
    "employees_with_country = get_employee_details_with_country(employee_detail_list)\n",
    "\n",
    "print(\"[\")\n",
    "for i, employee in enumerate(employees_with_country):\n",
    "    print(\"    {\")\n",
    "    print(f\"        \\\"full_name\\\": \\\"{employee['full_name']}\\\",\")\n",
    "    print(f\"        \\\"company\\\": \\\"{employee['company']}\\\",\")\n",
    "    print(f\"        \\\"country\\\": \\\"{employee['country']}\\\"\")\n",
    "    if i < len(employees_with_country) - 1:\n",
    "        print(\"    },\")\n",
    "    else:\n",
    "        print(\"    }\")\n",
    "print(\"]\")\n"
   ]
  },
  {
   "cell_type": "markdown",
   "metadata": {},
   "source": [
    "## Task 5"
   ]
  },
  {
   "cell_type": "code",
   "execution_count": 7,
   "metadata": {},
   "outputs": [
    {
     "name": "stdout",
     "output_type": "stream",
     "text": [
      "[\n",
      "    {\n",
      "        \"company\": \"Company 1\",\n",
      "        \"employee_nationality\": {\n",
      "            \"Australia\": 2,\n",
      "            \"United Kingdom\": 1\n",
      "        }\n",
      "    },\n",
      "    {\n",
      "        \"company\": \"Company 2\",\n",
      "        \"employee_nationality\": {\n",
      "            \"United States\": 1,\n",
      "            \"Hong Kong\": 1\n",
      "        }\n",
      "    },\n",
      "    {\n",
      "        \"company\": \"Company 3\",\n",
      "        \"employee_nationality\": {\n",
      "            \"United States\": 2\n",
      "        }\n",
      "    }\n",
      "\n"
     ]
    }
   ],
   "source": [
    "def get_company_employee_nationalities(employee_detail_list):\n",
    "    company_nationalities = {}\n",
    "\n",
    "    for employee in employee_detail_list:\n",
    "        company = employee['company']\n",
    "        nationality = employee['nationality']\n",
    "        \n",
    "        if company not in company_nationalities:\n",
    "            company_nationalities[company] = {}\n",
    "        \n",
    "        company_nationalities[company][nationality] = company_nationalities[company].get(nationality, 0) + 1\n",
    "\n",
    "    result = [\n",
    "        {\n",
    "            \"company\": company,\n",
    "            \"employee_nationality\": nationalities\n",
    "        }\n",
    "        for company, nationalities in company_nationalities.items()\n",
    "    ]\n",
    "    \n",
    "    return result\n",
    "\n",
    "result = get_company_employee_nationalities(employee_detail_list)\n",
    "\n",
    "output = \"[\\n\"\n",
    "for entry in result:\n",
    "    output += \"    {\\n\"\n",
    "    output += f'        \"company\": \"{entry[\"company\"]}\",\\n'\n",
    "    output += '        \"employee_nationality\": {\\n'\n",
    "    \n",
    "    nationalities = entry[\"employee_nationality\"]\n",
    "    for nationality, count in nationalities.items():\n",
    "        output += f'            \"{nationality}\": {count},\\n'\n",
    "    \n",
    "    output = output.rstrip(\",\\n\") + \"\\n\" \n",
    "    output += '        }\\n'\n",
    "    output += '    },\\n'\n",
    "    \n",
    "output = output.rstrip(\",\\n\") + \"\\n\" \n",
    "\n",
    "print(output)"
   ]
  }
 ],
 "metadata": {
  "kernelspec": {
   "display_name": "Python 3",
   "language": "python",
   "name": "python3"
  },
  "language_info": {
   "codemirror_mode": {
    "name": "ipython",
    "version": 3
   },
   "file_extension": ".py",
   "mimetype": "text/x-python",
   "name": "python",
   "nbconvert_exporter": "python",
   "pygments_lexer": "ipython3",
   "version": "3.12.6"
  }
 },
 "nbformat": 4,
 "nbformat_minor": 2
}
